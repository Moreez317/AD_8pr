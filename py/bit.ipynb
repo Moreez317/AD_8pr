{
 "cells": [
  {
   "cell_type": "markdown",
   "metadata": {},
   "source": [
    "Практика №8"
   ]
  },
  {
   "cell_type": "markdown",
   "metadata": {},
   "source": [
    "Загрузка библиотек:"
   ]
  },
  {
   "cell_type": "code",
   "execution_count": 57,
   "metadata": {},
   "outputs": [],
   "source": [
    "import numpy as np\n",
    "import pandas as pd\n",
    "import matplotlib.pyplot as plt\n",
    "from sklearn.linear_model import LinearRegression"
   ]
  },
  {
   "cell_type": "markdown",
   "metadata": {},
   "source": [
    "Задание 3"
   ]
  },
  {
   "cell_type": "markdown",
   "metadata": {},
   "source": [
    "Загрузка данных из CSV файла: "
   ]
  },
  {
   "cell_type": "code",
   "execution_count": 58,
   "metadata": {},
   "outputs": [
    {
     "data": {
      "text/html": [
       "<div>\n",
       "<style scoped>\n",
       "    .dataframe tbody tr th:only-of-type {\n",
       "        vertical-align: middle;\n",
       "    }\n",
       "\n",
       "    .dataframe tbody tr th {\n",
       "        vertical-align: top;\n",
       "    }\n",
       "\n",
       "    .dataframe thead th {\n",
       "        text-align: right;\n",
       "    }\n",
       "</style>\n",
       "<table border=\"1\" class=\"dataframe\">\n",
       "  <thead>\n",
       "    <tr style=\"text-align: right;\">\n",
       "      <th></th>\n",
       "      <th>Unnamed: 0</th>\n",
       "      <th>time</th>\n",
       "      <th>high</th>\n",
       "      <th>low</th>\n",
       "      <th>open</th>\n",
       "      <th>volumefrom</th>\n",
       "      <th>volumeto</th>\n",
       "      <th>close</th>\n",
       "    </tr>\n",
       "  </thead>\n",
       "  <tbody>\n",
       "    <tr>\n",
       "      <th>1996</th>\n",
       "      <td>1996</td>\n",
       "      <td>2021-06-07</td>\n",
       "      <td>36790.39</td>\n",
       "      <td>33367.12</td>\n",
       "      <td>35798.57</td>\n",
       "      <td>52209.55</td>\n",
       "      <td>1.850311e+09</td>\n",
       "      <td>33582.86</td>\n",
       "    </tr>\n",
       "    <tr>\n",
       "      <th>1997</th>\n",
       "      <td>1997</td>\n",
       "      <td>2021-06-08</td>\n",
       "      <td>34061.09</td>\n",
       "      <td>31034.35</td>\n",
       "      <td>33582.86</td>\n",
       "      <td>88483.79</td>\n",
       "      <td>2.890313e+09</td>\n",
       "      <td>33409.38</td>\n",
       "    </tr>\n",
       "    <tr>\n",
       "      <th>1998</th>\n",
       "      <td>1998</td>\n",
       "      <td>2021-06-09</td>\n",
       "      <td>37528.42</td>\n",
       "      <td>32435.18</td>\n",
       "      <td>33409.38</td>\n",
       "      <td>92280.57</td>\n",
       "      <td>3.249554e+09</td>\n",
       "      <td>37391.58</td>\n",
       "    </tr>\n",
       "    <tr>\n",
       "      <th>1999</th>\n",
       "      <td>1999</td>\n",
       "      <td>2021-06-10</td>\n",
       "      <td>38387.20</td>\n",
       "      <td>35821.05</td>\n",
       "      <td>37391.58</td>\n",
       "      <td>63052.49</td>\n",
       "      <td>2.338112e+09</td>\n",
       "      <td>36680.78</td>\n",
       "    </tr>\n",
       "    <tr>\n",
       "      <th>2000</th>\n",
       "      <td>2000</td>\n",
       "      <td>2021-06-11</td>\n",
       "      <td>37665.85</td>\n",
       "      <td>35981.84</td>\n",
       "      <td>36680.78</td>\n",
       "      <td>33418.02</td>\n",
       "      <td>1.235391e+09</td>\n",
       "      <td>36843.33</td>\n",
       "    </tr>\n",
       "  </tbody>\n",
       "</table>\n",
       "</div>"
      ],
      "text/plain": [
       "      Unnamed: 0       time      high       low      open  volumefrom  \\\n",
       "1996        1996 2021-06-07  36790.39  33367.12  35798.57    52209.55   \n",
       "1997        1997 2021-06-08  34061.09  31034.35  33582.86    88483.79   \n",
       "1998        1998 2021-06-09  37528.42  32435.18  33409.38    92280.57   \n",
       "1999        1999 2021-06-10  38387.20  35821.05  37391.58    63052.49   \n",
       "2000        2000 2021-06-11  37665.85  35981.84  36680.78    33418.02   \n",
       "\n",
       "          volumeto     close  \n",
       "1996  1.850311e+09  33582.86  \n",
       "1997  2.890313e+09  33409.38  \n",
       "1998  3.249554e+09  37391.58  \n",
       "1999  2.338112e+09  36680.78  \n",
       "2000  1.235391e+09  36843.33  "
      ]
     },
     "execution_count": 58,
     "metadata": {},
     "output_type": "execute_result"
    }
   ],
   "source": [
    "data = pd.read_csv('bitcoin.csv')\n",
    "data['time'] = pd.to_datetime(data['time'], format=\"%Y-%m-%d\")\n",
    "data.tail(5)"
   ]
  },
  {
   "cell_type": "markdown",
   "metadata": {},
   "source": [
    "Задание 4"
   ]
  },
  {
   "cell_type": "markdown",
   "metadata": {},
   "source": [
    "Удаление данных за последние 14 дней: "
   ]
  },
  {
   "cell_type": "code",
   "execution_count": 59,
   "metadata": {},
   "outputs": [
    {
     "data": {
      "text/html": [
       "<div>\n",
       "<style scoped>\n",
       "    .dataframe tbody tr th:only-of-type {\n",
       "        vertical-align: middle;\n",
       "    }\n",
       "\n",
       "    .dataframe tbody tr th {\n",
       "        vertical-align: top;\n",
       "    }\n",
       "\n",
       "    .dataframe thead th {\n",
       "        text-align: right;\n",
       "    }\n",
       "</style>\n",
       "<table border=\"1\" class=\"dataframe\">\n",
       "  <thead>\n",
       "    <tr style=\"text-align: right;\">\n",
       "      <th></th>\n",
       "      <th>Unnamed: 0</th>\n",
       "      <th>time</th>\n",
       "      <th>high</th>\n",
       "      <th>low</th>\n",
       "      <th>open</th>\n",
       "      <th>volumefrom</th>\n",
       "      <th>volumeto</th>\n",
       "      <th>close</th>\n",
       "    </tr>\n",
       "  </thead>\n",
       "  <tbody>\n",
       "    <tr>\n",
       "      <th>1982</th>\n",
       "      <td>1982</td>\n",
       "      <td>2021-05-24</td>\n",
       "      <td>39945.35</td>\n",
       "      <td>34467.32</td>\n",
       "      <td>34716.84</td>\n",
       "      <td>106765.14</td>\n",
       "      <td>3.981461e+09</td>\n",
       "      <td>38837.76</td>\n",
       "    </tr>\n",
       "    <tr>\n",
       "      <th>1983</th>\n",
       "      <td>1983</td>\n",
       "      <td>2021-05-25</td>\n",
       "      <td>39842.90</td>\n",
       "      <td>36509.09</td>\n",
       "      <td>38837.76</td>\n",
       "      <td>66530.67</td>\n",
       "      <td>2.529569e+09</td>\n",
       "      <td>38387.36</td>\n",
       "    </tr>\n",
       "    <tr>\n",
       "      <th>1984</th>\n",
       "      <td>1984</td>\n",
       "      <td>2021-05-26</td>\n",
       "      <td>40854.81</td>\n",
       "      <td>37855.81</td>\n",
       "      <td>38387.36</td>\n",
       "      <td>66483.59</td>\n",
       "      <td>2.607760e+09</td>\n",
       "      <td>39295.08</td>\n",
       "    </tr>\n",
       "    <tr>\n",
       "      <th>1985</th>\n",
       "      <td>1985</td>\n",
       "      <td>2021-05-27</td>\n",
       "      <td>40408.95</td>\n",
       "      <td>37211.84</td>\n",
       "      <td>39295.08</td>\n",
       "      <td>46474.62</td>\n",
       "      <td>1.804037e+09</td>\n",
       "      <td>38538.84</td>\n",
       "    </tr>\n",
       "    <tr>\n",
       "      <th>1986</th>\n",
       "      <td>1986</td>\n",
       "      <td>2021-05-28</td>\n",
       "      <td>38879.60</td>\n",
       "      <td>34733.76</td>\n",
       "      <td>38538.84</td>\n",
       "      <td>85345.66</td>\n",
       "      <td>3.104364e+09</td>\n",
       "      <td>35680.92</td>\n",
       "    </tr>\n",
       "  </tbody>\n",
       "</table>\n",
       "</div>"
      ],
      "text/plain": [
       "      Unnamed: 0       time      high       low      open  volumefrom  \\\n",
       "1982        1982 2021-05-24  39945.35  34467.32  34716.84   106765.14   \n",
       "1983        1983 2021-05-25  39842.90  36509.09  38837.76    66530.67   \n",
       "1984        1984 2021-05-26  40854.81  37855.81  38387.36    66483.59   \n",
       "1985        1985 2021-05-27  40408.95  37211.84  39295.08    46474.62   \n",
       "1986        1986 2021-05-28  38879.60  34733.76  38538.84    85345.66   \n",
       "\n",
       "          volumeto     close  \n",
       "1982  3.981461e+09  38837.76  \n",
       "1983  2.529569e+09  38387.36  \n",
       "1984  2.607760e+09  39295.08  \n",
       "1985  1.804037e+09  38538.84  \n",
       "1986  3.104364e+09  35680.92  "
      ]
     },
     "execution_count": 59,
     "metadata": {},
     "output_type": "execute_result"
    }
   ],
   "source": [
    "data_dropped = data.iloc[:-14]\n",
    "data_dropped.tail(5)"
   ]
  },
  {
   "cell_type": "markdown",
   "metadata": {},
   "source": [
    "Задание 5"
   ]
  },
  {
   "cell_type": "markdown",
   "metadata": {},
   "source": [
    "Спрогнозировать данные на следующие 14 дней"
   ]
  },
  {
   "cell_type": "code",
   "execution_count": 60,
   "metadata": {},
   "outputs": [],
   "source": [
    "regression = LinearRegression()\n",
    "\n",
    "PredictData = data[:-14]\n",
    "ReferenceData = data[-14:]\n",
    "\n",
    "X = PredictData.drop(columns=['time', 'close'])\n",
    "y = PredictData['close']\n",
    "regression.fit(X, y);"
   ]
  },
  {
   "cell_type": "code",
   "execution_count": 65,
   "metadata": {},
   "outputs": [
    {
     "data": {
      "image/png": "[encoded data removed]",
      "text/plain": [
       "<Figure size 1000x600 with 1 Axes>"
      ]
     },
     "metadata": {},
     "output_type": "display_data"
    }
   ],
   "source": [
    "plt.figure(figsize=(10,6))\n",
    "plt.plot(PredictData.time, y, alpha=0.3, color='purple')\n",
    "X_test = ReferenceData.drop(columns=['time', 'close'])\n",
    "y_pred = regression.predict(X_test)\n",
    "plt.plot(ReferenceData.time, y_pred, color='yellow', linewidth=3)\n",
    "plt.xlabel('time')\n",
    "plt.ylabel('close cost');"
   ]
  },
  {
   "cell_type": "markdown",
   "metadata": {},
   "source": [
    "Задание 6"
   ]
  },
  {
   "cell_type": "markdown",
   "metadata": {},
   "source": [
    "Сравнить полученные данные с исходными"
   ]
  },
  {
   "cell_type": "code",
   "execution_count": 62,
   "metadata": {},
   "outputs": [
    {
     "data": {
      "text/plain": [
       "0.7575715470425642"
      ]
     },
     "execution_count": 62,
     "metadata": {},
     "output_type": "execute_result"
    }
   ],
   "source": [
    "import sklearn.metrics as metr\n",
    "metr.r2_score(ReferenceData.close, y_pred)"
   ]
  },
  {
   "cell_type": "markdown",
   "metadata": {},
   "source": [
    "Задание 7"
   ]
  },
  {
   "cell_type": "markdown",
   "metadata": {},
   "source": [
    "Вывести угол наклона и y-перехват"
   ]
  },
  {
   "cell_type": "code",
   "execution_count": 70,
   "metadata": {},
   "outputs": [
    {
     "name": "stdout",
     "output_type": "stream",
     "text": [
      "угол наклона: 0.005502096831314832\n",
      "y-перехват: 35.65580663829496\n"
     ]
    }
   ],
   "source": [
    "print('угол наклона:', regression.coef_[0])\n",
    "print('y-перехват:', regression.intercept_)"
   ]
  },
  {
   "cell_type": "markdown",
   "metadata": {},
   "source": [
    "Задание 8"
   ]
  },
  {
   "cell_type": "markdown",
   "metadata": {},
   "source": [
    "Построение диаграммы рассеяния"
   ]
  },
  {
   "cell_type": "code",
   "execution_count": 64,
   "metadata": {},
   "outputs": [
    {
     "data": {
      "image/png": "[encoded data removed]",
      "text/plain": [
       "<Figure size 640x480 with 1 Axes>"
      ]
     },
     "metadata": {},
     "output_type": "display_data"
    }
   ],
   "source": [
    "plt.grid()\n",
    "plt.title('Диаграмма рассеяния')\n",
    "plt.xlabel('close')\n",
    "plt.ylabel('предсказанные моделью close')\n",
    "plt.scatter(x=ReferenceData.close, y=y_pred, marker='o', color='crimson');"
   ]
  }
 ],
 "metadata": {
  "kernelspec": {
   "display_name": "Python 3.9.1 64-bit",
   "language": "python",
   "name": "python3"
  },
  "language_info": {
   "codemirror_mode": {
    "name": "ipython",
    "version": 3
   },
   "file_extension": ".py",
   "mimetype": "text/x-python",
   "name": "python",
   "nbconvert_exporter": "python",
   "pygments_lexer": "ipython3",
   "version": "3.9.1"
  },
  "orig_nbformat": 4,
  "vscode": {
   "interpreter": {
    "hash": "aee8b7b246df8f9039afb4144a1f6fd8d2ca17a180786b69acc140d282b71a49"
   }
  }
 },
 "nbformat": 4,
 "nbformat_minor": 2
}
